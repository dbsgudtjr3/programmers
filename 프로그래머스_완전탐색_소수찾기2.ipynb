{
 "cells": [
  {
   "cell_type": "markdown",
   "metadata": {},
   "source": [
    "# 프로그래머스_완전탐색_소수찾기2"
   ]
  },
  {
   "cell_type": "markdown",
   "metadata": {},
   "source": [
    "한 자리 숫자가 적힌 종이 조각이 흩어져있습니다. 흩어진 종이 조각을 붙여 소수를 몇 개 만들 수 있는지 알아내려 합니다.\n",
    "  \n",
    "각 종이 조각에 적힌 숫자가 적힌 문자열 numbers가 주어졌을 때, 종이 조각으로 만들 수 있는 소수가 몇 개인지 return 하도록 solution 함수를 완성해주세요.\n",
    "\n",
    "제한사항\n",
    "- numbers는 길이 1 이상 7 이하인 문자열입니다.\n",
    "- numbers는 0~9까지 숫자만으로 이루어져 있습니다.\n",
    "- \"013\"은 0, 1, 3 숫자가 적힌 종이 조각이 흩어져있다는 의미입니다."
   ]
  },
  {
   "cell_type": "code",
   "execution_count": 59,
   "metadata": {},
   "outputs": [],
   "source": [
    "from sympy import isprime\n",
    "from itertools import permutations\n",
    "\n",
    "def solution(numbers):\n",
    "    number_list = list(numbers)\n",
    "    prime_list = []\n",
    "    for i in permutations(number_list):\n",
    "        if isprime(int(''.join(i))) == True:\n",
    "            prime_list.append(int(''.join(i)))\n",
    "            print(int(''.join(i)))\n",
    "    \n",
    "    return len(list(set(prime_list)))"
   ]
  },
  {
   "cell_type": "code",
   "execution_count": 62,
   "metadata": {},
   "outputs": [],
   "source": [
    "numbers = \"3025\""
   ]
  },
  {
   "cell_type": "code",
   "execution_count": 63,
   "metadata": {},
   "outputs": [
    {
     "name": "stdout",
     "output_type": "stream",
     "text": [
      "523\n",
      "2053\n",
      "2503\n",
      "5023\n"
     ]
    },
    {
     "data": {
      "text/plain": [
       "4"
      ]
     },
     "execution_count": 63,
     "metadata": {},
     "output_type": "execute_result"
    }
   ],
   "source": [
    "solution(numbers)"
   ]
  },
  {
   "cell_type": "code",
   "execution_count": 1,
   "metadata": {},
   "outputs": [],
   "source": [
    "from sympy import isprime"
   ]
  },
  {
   "cell_type": "code",
   "execution_count": 5,
   "metadata": {},
   "outputs": [],
   "source": [
    "numbers = \"17\""
   ]
  },
  {
   "cell_type": "code",
   "execution_count": 8,
   "metadata": {},
   "outputs": [
    {
     "data": {
      "text/plain": [
       "['', '7']"
      ]
     },
     "execution_count": 8,
     "metadata": {},
     "output_type": "execute_result"
    }
   ],
   "source": [
    "numbers.split(\"1\")"
   ]
  },
  {
   "cell_type": "code",
   "execution_count": 47,
   "metadata": {},
   "outputs": [
    {
     "name": "stdout",
     "output_type": "stream",
     "text": [
      "011\n",
      "011\n",
      "101\n",
      "101\n"
     ]
    },
    {
     "data": {
      "text/plain": [
       "4"
      ]
     },
     "execution_count": 47,
     "metadata": {},
     "output_type": "execute_result"
    }
   ],
   "source": [
    "numbers = \"011\"\n",
    "number_list = list(numbers)\n",
    "prime_count = 0\n",
    "for i in permutations(number_list):\n",
    "    if isprime(int(''.join(i))) == True:\n",
    "        prime_count += 1\n",
    "        print(''.join(i))\n",
    "prime_count"
   ]
  },
  {
   "cell_type": "code",
   "execution_count": 49,
   "metadata": {},
   "outputs": [
    {
     "name": "stdout",
     "output_type": "stream",
     "text": [
      "011\n",
      "011\n",
      "101\n",
      "101\n"
     ]
    },
    {
     "data": {
      "text/plain": [
       "2"
      ]
     },
     "execution_count": 49,
     "metadata": {},
     "output_type": "execute_result"
    }
   ],
   "source": [
    "numbers = \"011\"\n",
    "number_list = list(numbers)\n",
    "prime_list = []\n",
    "for i in permutations(number_list):\n",
    "    if isprime(int(''.join(i))) == True:\n",
    "        prime_list.append(int(''.join(i)))\n",
    "        print(''.join(i))\n",
    "len(list(set(prime_list)))"
   ]
  },
  {
   "cell_type": "code",
   "execution_count": 22,
   "metadata": {},
   "outputs": [],
   "source": [
    "import numpy as np"
   ]
  },
  {
   "cell_type": "code",
   "execution_count": 21,
   "metadata": {},
   "outputs": [
    {
     "data": {
      "text/plain": [
       "['1', '7']"
      ]
     },
     "execution_count": 21,
     "metadata": {},
     "output_type": "execute_result"
    }
   ],
   "source": [
    "number_list"
   ]
  },
  {
   "cell_type": "code",
   "execution_count": 31,
   "metadata": {},
   "outputs": [
    {
     "data": {
      "text/plain": [
       "array([['1'],\n",
       "       ['7']], dtype='<U1')"
      ]
     },
     "execution_count": 31,
     "metadata": {},
     "output_type": "execute_result"
    }
   ],
   "source": [
    "np_list = np.array(number_list).reshape(len(number_list), 1)\n",
    "np_list"
   ]
  },
  {
   "cell_type": "code",
   "execution_count": 30,
   "metadata": {},
   "outputs": [
    {
     "data": {
      "text/plain": [
       "[(array(['1'], dtype='<U1'),), (array(['7'], dtype='<U1'),)]"
      ]
     },
     "execution_count": 30,
     "metadata": {},
     "output_type": "execute_result"
    }
   ],
   "source": [
    "list(product(np_list))"
   ]
  },
  {
   "cell_type": "code",
   "execution_count": 15,
   "metadata": {},
   "outputs": [],
   "source": [
    "from itertools import *"
   ]
  },
  {
   "cell_type": "code",
   "execution_count": 20,
   "metadata": {},
   "outputs": [
    {
     "data": {
      "text/plain": [
       "[('1',), ('7',)]"
      ]
     },
     "execution_count": 20,
     "metadata": {},
     "output_type": "execute_result"
    }
   ],
   "source": [
    "list(product(number_list))"
   ]
  },
  {
   "cell_type": "code",
   "execution_count": 35,
   "metadata": {},
   "outputs": [
    {
     "data": {
      "text/plain": [
       "[('3', '4', '5', '2'),\n",
       " ('3', '4', '2', '5'),\n",
       " ('3', '5', '4', '2'),\n",
       " ('3', '5', '2', '4'),\n",
       " ('3', '2', '4', '5'),\n",
       " ('3', '2', '5', '4'),\n",
       " ('4', '3', '5', '2'),\n",
       " ('4', '3', '2', '5'),\n",
       " ('4', '5', '3', '2'),\n",
       " ('4', '5', '2', '3'),\n",
       " ('4', '2', '3', '5'),\n",
       " ('4', '2', '5', '3'),\n",
       " ('5', '3', '4', '2'),\n",
       " ('5', '3', '2', '4'),\n",
       " ('5', '4', '3', '2'),\n",
       " ('5', '4', '2', '3'),\n",
       " ('5', '2', '3', '4'),\n",
       " ('5', '2', '4', '3'),\n",
       " ('2', '3', '4', '5'),\n",
       " ('2', '3', '5', '4'),\n",
       " ('2', '4', '3', '5'),\n",
       " ('2', '4', '5', '3'),\n",
       " ('2', '5', '3', '4'),\n",
       " ('2', '5', '4', '3')]"
      ]
     },
     "execution_count": 35,
     "metadata": {},
     "output_type": "execute_result"
    }
   ],
   "source": [
    "list(permutations(number_list))"
   ]
  },
  {
   "cell_type": "code",
   "execution_count": 37,
   "metadata": {},
   "outputs": [
    {
     "name": "stdout",
     "output_type": "stream",
     "text": [
      "3452\n",
      "3425\n",
      "3542\n",
      "3524\n",
      "3245\n",
      "3254\n",
      "4352\n",
      "4325\n",
      "4532\n",
      "4523\n",
      "4235\n",
      "4253\n",
      "5342\n",
      "5324\n",
      "5432\n",
      "5423\n",
      "5234\n",
      "5243\n",
      "2345\n",
      "2354\n",
      "2435\n",
      "2453\n",
      "2534\n",
      "2543\n"
     ]
    }
   ],
   "source": [
    "for i in permutations(number_list):\n",
    "    print(''.join(i))"
   ]
  },
  {
   "cell_type": "code",
   "execution_count": null,
   "metadata": {},
   "outputs": [],
   "source": [
    "numbers = "
   ]
  }
 ],
 "metadata": {
  "kernelspec": {
   "display_name": "Python 3",
   "language": "python",
   "name": "python3"
  },
  "language_info": {
   "codemirror_mode": {
    "name": "ipython",
    "version": 3
   },
   "file_extension": ".py",
   "mimetype": "text/x-python",
   "name": "python",
   "nbconvert_exporter": "python",
   "pygments_lexer": "ipython3",
   "version": "3.7.3"
  }
 },
 "nbformat": 4,
 "nbformat_minor": 2
}
