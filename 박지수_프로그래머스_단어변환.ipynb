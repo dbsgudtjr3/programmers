{
 "cells": [
  {
   "cell_type": "code",
   "execution_count": null,
   "metadata": {},
   "outputs": [],
   "source": [
    "def solution(begin, target, words):\n",
    "    if target not in words:\n",
    "        return 0\n",
    "    \n",
    "    stack =[[list(begin), 0]]\n",
    "    visit = [0] * len(words)\n",
    "    words = [list(val) for val in words]\n",
    "    sol_list = []\n",
    "    target = list(target)\n",
    "    while stack:\n",
    "        val, idx = stack.pop()\n",
    "        #print(val, idx)\n",
    "        for i in range(0, len(words)):\n",
    "            #intersection이 아니라 진짜 index를 비교해봐야함\n",
    "            if sum(z==c for z, c in zip(val, words[i])) == len(begin)-1 and visit[i] ==0 :\n",
    "                stack.append([words[i], idx+1])\n",
    "                visit[i] = 1\n",
    "        #target이랑 비교했을때, 겹치는게 3이면 idx를 sol_list에 넣기\n",
    "        if sum(z==c for z, c in zip(val, target)) == len(begin):\n",
    "            #print(\"RB\")\n",
    "            sol_list.append(idx)\n",
    "    if len(sol_list) == 0:\n",
    "        return 0\n",
    "    else:\n",
    "        answer = min(sol_list)\n",
    "    return answer"
   ]
  }
 ],
 "metadata": {
  "kernelspec": {
   "display_name": "Python 3",
   "language": "python",
   "name": "python3"
  },
  "language_info": {
   "codemirror_mode": {
    "name": "ipython",
    "version": 3
   },
   "file_extension": ".py",
   "mimetype": "text/x-python",
   "name": "python",
   "nbconvert_exporter": "python",
   "pygments_lexer": "ipython3",
   "version": "3.7.3"
  }
 },
 "nbformat": 4,
 "nbformat_minor": 2
}
