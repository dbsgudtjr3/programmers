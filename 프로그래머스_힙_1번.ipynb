{
 "cells": [
  {
   "cell_type": "markdown",
   "metadata": {},
   "source": [
    "# 프로그래머스 힙 1번\n",
    "## 더 맵게"
   ]
  },
  {
   "cell_type": "code",
   "execution_count": 30,
   "metadata": {},
   "outputs": [],
   "source": [
    "scoville = [1,2,3,9,10,12]\n",
    "K = 7"
   ]
  },
  {
   "cell_type": "code",
   "execution_count": 15,
   "metadata": {},
   "outputs": [
    {
     "data": {
      "text/plain": [
       "[3, 9, 10, 12, 5]"
      ]
     },
     "execution_count": 15,
     "metadata": {},
     "output_type": "execute_result"
    }
   ],
   "source": [
    "mix_time = 0\n",
    "if min(scoville) < K:\n",
    "    scoville.sort()\n",
    "    new_food = scoville[0] + (scoville[1] * 2)\n",
    "    scoville.remove(scoville[0])\n",
    "    scoville.remove(scoville[0])\n",
    "    scoville.append(new_food)\n",
    "    mix_time += 1\n",
    "else:\n",
    "    return mix_time"
   ]
  },
  {
   "cell_type": "code",
   "execution_count": 20,
   "metadata": {},
   "outputs": [
    {
     "data": {
      "text/plain": [
       "2"
      ]
     },
     "execution_count": 20,
     "metadata": {},
     "output_type": "execute_result"
    }
   ],
   "source": [
    "mix_time = 0\n",
    "while min(scoville) < K:\n",
    "    scoville.sort()\n",
    "    new_food = scoville[0] + (scoville[1] * 2)\n",
    "    scoville.remove(scoville[0])\n",
    "    scoville.remove(scoville[0])\n",
    "    scoville.append(new_food)\n",
    "    mix_time += 1\n",
    "mix_time"
   ]
  },
  {
   "cell_type": "code",
   "execution_count": 21,
   "metadata": {},
   "outputs": [],
   "source": [
    "def solution(scoville, K):\n",
    "    mix_time = 0\n",
    "    while min(scoville) < K:\n",
    "        scoville.sort()\n",
    "        new_food = scoville[0] + (scoville[1] * 2)\n",
    "        scoville.remove(scoville[0])\n",
    "        scoville.remove(scoville[0])\n",
    "        scoville.append(new_food)\n",
    "        mix_time += 1\n",
    "    return mix_time"
   ]
  },
  {
   "cell_type": "code",
   "execution_count": 42,
   "metadata": {},
   "outputs": [],
   "source": [
    "def solution(scoville, K):\n",
    "    mix_time = 0\n",
    "    scoville_temp = scoville.copy()\n",
    "    while min(scoville_temp) < K:\n",
    "        if (len(scoville_temp) == 1) & (scoville_temp[0] < K):\n",
    "            return -1\n",
    "        scoville_temp.sort()\n",
    "        new_food = scoville_temp[0] + (scoville_temp[1] * 2)\n",
    "        scoville_temp.remove(scoville_temp[0])\n",
    "        scoville_temp.remove(scoville_temp[0])\n",
    "        scoville_temp.append(new_food)\n",
    "        mix_time += 1\n",
    "        \n",
    "    return mix_time"
   ]
  },
  {
   "cell_type": "code",
   "execution_count": null,
   "metadata": {},
   "outputs": [],
   "source": [
    "import headq as hq\n",
    "\n",
    "def solution(scoville, K):\n",
    "    mix_time = 0\n",
    "    scoville_temp = scoville.copy()\n",
    "    while min(scoville_temp) < K:\n",
    "        if (len(scoville_temp) == 1) & (scoville_temp[0] < K):\n",
    "            return -1\n",
    "        hq.heapify(scoville_temp)\n",
    "        new_food = scoville_temp[0] + (scoville_temp[1] * 2)\n",
    "        scoville_temp.remove(scoville_temp[0])\n",
    "        scoville_temp.remove(scoville_temp[0])\n",
    "        scoville_temp.append(new_food)\n",
    "        mix_time += 1\n",
    "        \n",
    "    return mix_time"
   ]
  },
  {
   "cell_type": "code",
   "execution_count": 55,
   "metadata": {},
   "outputs": [
    {
     "data": {
      "text/plain": [
       "2"
      ]
     },
     "execution_count": 55,
     "metadata": {},
     "output_type": "execute_result"
    }
   ],
   "source": [
    "solution(scoville, K)"
   ]
  },
  {
   "cell_type": "code",
   "execution_count": 43,
   "metadata": {},
   "outputs": [],
   "source": [
    "def solution(scoville, K):\n",
    "    mix_time = 0\n",
    "    while min(scoville) < K:\n",
    "        if (len(scoville) == 1) & (scoville[0] < K):\n",
    "            return -1\n",
    "        scoville.sort()\n",
    "        new_food = scoville[0] + (scoville[1] * 2)\n",
    "        scoville.remove(scoville[0])\n",
    "        scoville.remove(scoville[0])\n",
    "        scoville.append(new_food)\n",
    "        mix_time += 1\n",
    "        \n",
    "    return mix_time"
   ]
  },
  {
   "cell_type": "code",
   "execution_count": 27,
   "metadata": {},
   "outputs": [
    {
     "data": {
      "text/plain": [
       "[9, 10, 12, 13]"
      ]
     },
     "execution_count": 27,
     "metadata": {},
     "output_type": "execute_result"
    }
   ],
   "source": [
    "scoville.copy()"
   ]
  },
  {
   "cell_type": "code",
   "execution_count": 37,
   "metadata": {},
   "outputs": [
    {
     "name": "stdout",
     "output_type": "stream",
     "text": [
      "[3, 9, 10, 12, 5]\n",
      "[9, 10, 12, 13]\n"
     ]
    },
    {
     "data": {
      "text/plain": [
       "2"
      ]
     },
     "execution_count": 37,
     "metadata": {},
     "output_type": "execute_result"
    }
   ],
   "source": [
    "solution(scoville, K)"
   ]
  },
  {
   "cell_type": "code",
   "execution_count": 4,
   "metadata": {},
   "outputs": [
    {
     "data": {
      "text/plain": [
       "[1, 2, 3, 9, 10, 12]"
      ]
     },
     "execution_count": 4,
     "metadata": {},
     "output_type": "execute_result"
    }
   ],
   "source": [
    "scoville"
   ]
  },
  {
   "cell_type": "code",
   "execution_count": 13,
   "metadata": {},
   "outputs": [
    {
     "data": {
      "text/plain": [
       "[2, 10, 12, 5]"
      ]
     },
     "execution_count": 13,
     "metadata": {},
     "output_type": "execute_result"
    }
   ],
   "source": [
    "scoville"
   ]
  },
  {
   "cell_type": "code",
   "execution_count": 12,
   "metadata": {},
   "outputs": [],
   "source": [
    "scoville.remove(scoville[1])"
   ]
  },
  {
   "cell_type": "code",
   "execution_count": 16,
   "metadata": {},
   "outputs": [
    {
     "ename": "SyntaxError",
     "evalue": "invalid syntax (<ipython-input-16-b57b4927ecad>, line 1)",
     "output_type": "error",
     "traceback": [
      "\u001b[1;36m  File \u001b[1;32m\"<ipython-input-16-b57b4927ecad>\"\u001b[1;36m, line \u001b[1;32m1\u001b[0m\n\u001b[1;33m    if scoville all > 1\u001b[0m\n\u001b[1;37m                  ^\u001b[0m\n\u001b[1;31mSyntaxError\u001b[0m\u001b[1;31m:\u001b[0m invalid syntax\n"
     ]
    }
   ],
   "source": [
    "if scoville all > 1"
   ]
  },
  {
   "cell_type": "code",
   "execution_count": 17,
   "metadata": {},
   "outputs": [
    {
     "data": {
      "text/plain": [
       "3"
      ]
     },
     "execution_count": 17,
     "metadata": {},
     "output_type": "execute_result"
    }
   ],
   "source": [
    "min(scoville)"
   ]
  },
  {
   "cell_type": "code",
   "execution_count": 44,
   "metadata": {},
   "outputs": [],
   "source": [
    "# 다른사람 풀이\n",
    "import heapq\n",
    "\n",
    "def solution(scoville, k):\n",
    "    heap = []\n",
    "    for num in scoville:\n",
    "        heapq.heappush(heap, num)\n",
    "\n",
    "    mix_cnt = 0\n",
    "    while heap[0] < k:\n",
    "        try:\n",
    "            heapq.heappush(heap, heapq.heappop(heap) + (heapq.heappop(heap) * 2))\n",
    "        except IndexError:\n",
    "            return -1\n",
    "        mix_cnt += 1\n",
    "\n",
    "    return mix_cnt"
   ]
  },
  {
   "cell_type": "code",
   "execution_count": null,
   "metadata": {},
   "outputs": [],
   "source": [
    "headp.headpush(heap, num)"
   ]
  },
  {
   "cell_type": "code",
   "execution_count": 45,
   "metadata": {},
   "outputs": [],
   "source": [
    "import heapq as hq\n",
    "\n",
    "def solution(scoville, K):\n",
    "\n",
    "    hq.heapify(scoville)\n",
    "    answer = 0\n",
    "    while True:\n",
    "        first = hq.heappop(scoville)\n",
    "        if first >= K:\n",
    "            break\n",
    "        if len(scoville) == 0:\n",
    "            return -1\n",
    "        second = hq.heappop(scoville)\n",
    "        hq.heappush(scoville, first + second*2)\n",
    "        answer += 1  \n",
    "\n",
    "    return answer"
   ]
  },
  {
   "cell_type": "code",
   "execution_count": 50,
   "metadata": {},
   "outputs": [
    {
     "data": {
      "text/plain": [
       "[1, 2, 3, 9, 10, 12]"
      ]
     },
     "execution_count": 50,
     "metadata": {},
     "output_type": "execute_result"
    }
   ],
   "source": [
    "scoville"
   ]
  },
  {
   "cell_type": "code",
   "execution_count": 47,
   "metadata": {},
   "outputs": [],
   "source": [
    "hq.heapify(scoville)"
   ]
  },
  {
   "cell_type": "code",
   "execution_count": 51,
   "metadata": {},
   "outputs": [],
   "source": [
    "ex_list = [1,5,3,5,2,6,4]"
   ]
  },
  {
   "cell_type": "code",
   "execution_count": 53,
   "metadata": {},
   "outputs": [],
   "source": [
    "hq.heapify(ex_list)"
   ]
  },
  {
   "cell_type": "code",
   "execution_count": 54,
   "metadata": {},
   "outputs": [
    {
     "data": {
      "text/plain": [
       "[1, 2, 3, 5, 5, 6, 4]"
      ]
     },
     "execution_count": 54,
     "metadata": {},
     "output_type": "execute_result"
    }
   ],
   "source": [
    "ex_list"
   ]
  }
 ],
 "metadata": {
  "kernelspec": {
   "display_name": "Python 3",
   "language": "python",
   "name": "python3"
  },
  "language_info": {
   "codemirror_mode": {
    "name": "ipython",
    "version": 3
   },
   "file_extension": ".py",
   "mimetype": "text/x-python",
   "name": "python",
   "nbconvert_exporter": "python",
   "pygments_lexer": "ipython3",
   "version": "3.7.3"
  }
 },
 "nbformat": 4,
 "nbformat_minor": 2
}
