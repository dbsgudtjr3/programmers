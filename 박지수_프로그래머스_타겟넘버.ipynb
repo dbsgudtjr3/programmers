{
 "cells": [
  {
   "cell_type": "code",
   "execution_count": null,
   "metadata": {},
   "outputs": [],
   "source": []
  },
  {
   "cell_type": "code",
   "execution_count": null,
   "metadata": {},
   "outputs": [],
   "source": [
    "from collections import Counter\n",
    "def solution(numbers, target):\n",
    "    stack = []\n",
    "    first_idx = [0, 0]\n",
    "    stack.append(first_idx)\n",
    "    sol_list = []\n",
    "    while stack:\n",
    "        val, idx = stack.pop()\n",
    "        #print(val,idx)\n",
    "        if idx < len(numbers):\n",
    "            val_plus = val + numbers[idx]\n",
    "            val_minus = val - numbers[idx]\n",
    "            idx += 1\n",
    "            stack.append([val_plus, idx])\n",
    "            stack.append([val_minus, idx])\n",
    "        elif idx == len(numbers):\n",
    "            sol_list.append(val)\n",
    "    \n",
    "    answer = Counter(sol_list)[target]\n",
    "    return answer"
   ]
  }
 ],
 "metadata": {
  "kernelspec": {
   "display_name": "Python 3",
   "language": "python",
   "name": "python3"
  },
  "language_info": {
   "codemirror_mode": {
    "name": "ipython",
    "version": 3
   },
   "file_extension": ".py",
   "mimetype": "text/x-python",
   "name": "python",
   "nbconvert_exporter": "python",
   "pygments_lexer": "ipython3",
   "version": "3.7.3"
  }
 },
 "nbformat": 4,
 "nbformat_minor": 2
}
