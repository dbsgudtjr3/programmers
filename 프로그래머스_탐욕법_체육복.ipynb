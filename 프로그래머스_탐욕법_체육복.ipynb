{
 "cells": [
  {
   "cell_type": "markdown",
   "metadata": {},
   "source": [
    "# 프로그래머스_탐욕법_체육복"
   ]
  },
  {
   "cell_type": "code",
   "execution_count": null,
   "metadata": {},
   "outputs": [],
   "source": []
  },
  {
   "cell_type": "code",
   "execution_count": 49,
   "metadata": {},
   "outputs": [],
   "source": [
    "n = 5\n",
    "lost = [2, 4]\n",
    "reserve = [1, 3, 5]\n",
    "# return 5"
   ]
  },
  {
   "cell_type": "code",
   "execution_count": 112,
   "metadata": {},
   "outputs": [],
   "source": [
    "n = 5\n",
    "lost = [2, 4]\n",
    "reserve = [3]\n",
    "# return 4"
   ]
  },
  {
   "cell_type": "code",
   "execution_count": 47,
   "metadata": {},
   "outputs": [],
   "source": [
    "n = 3\n",
    "lost = [3]\n",
    "reserve = [1]\n",
    "# return 2"
   ]
  },
  {
   "cell_type": "code",
   "execution_count": 45,
   "metadata": {},
   "outputs": [],
   "source": [
    "# 여분 있는 학생이 도난당한 경우\n",
    "n = 6\n",
    "lost = [3,5,6]\n",
    "reserve = [2,4,5]\n",
    "# return 5"
   ]
  },
  {
   "cell_type": "code",
   "execution_count": 95,
   "metadata": {},
   "outputs": [],
   "source": [
    "n=15\n",
    "lost = [1,2,6,7,9]\n",
    "reserve = [3,4,5,8]\n",
    "# return 13"
   ]
  },
  {
   "cell_type": "code",
   "execution_count": 26,
   "metadata": {},
   "outputs": [],
   "source": [
    "def solution(n, lost, reserve):\n",
    "    for l in lost:\n",
    "        if l in reserve:\n",
    "            reserve.remove(l)\n",
    "            lost.remove(l)\n",
    "    for l in lost:\n",
    "        if l-1 in reserve:\n",
    "            reserve.remove(l-1)\n",
    "            lost.remove(l)\n",
    "        elif l+1 in reserve:\n",
    "            reserve.remove(l+1)\n",
    "            lost.remove(l)\n",
    "    \n",
    "    return n-len(lost)"
   ]
  },
  {
   "cell_type": "code",
   "execution_count": 93,
   "metadata": {},
   "outputs": [],
   "source": [
    "def solution(n, lost, reserve):\n",
    "    '''\n",
    "    for r in reserve:\n",
    "        if r in lost:\n",
    "            reserve.remove(r)\n",
    "            lost.remove(r)\n",
    "            '''\n",
    "    reserve_nonoverlap = [r for r in reserve if r not in lost]\n",
    "    lost_nonoverlap = [l for l in reserve if l not in reserve]\n",
    "    print(reserve)\n",
    "    for r in reserve_nonoverlap:\n",
    "        print(r)\n",
    "        if r-1 in lost_nonoverlap:\n",
    "            #reserve.remove(r) 이렇게 돌고있는거 직접 지우면 안된다\n",
    "            lost_nonoverlap.remove(r-1)\n",
    "        elif r+1 in lost_nonoverlap:\n",
    "            #reserve.remove(r)\n",
    "            lost_nonoverlap.remove(r+1)\n",
    "    \n",
    "    return n-len(lost_nonoverlap)"
   ]
  },
  {
   "cell_type": "code",
   "execution_count": 67,
   "metadata": {},
   "outputs": [
    {
     "data": {
      "text/plain": [
       "True"
      ]
     },
     "execution_count": 67,
     "metadata": {},
     "output_type": "execute_result"
    }
   ],
   "source": [
    "8-1 in lost"
   ]
  },
  {
   "cell_type": "code",
   "execution_count": 96,
   "metadata": {},
   "outputs": [
    {
     "name": "stdout",
     "output_type": "stream",
     "text": [
      "[3, 4, 5, 8]\n",
      "3\n",
      "4\n",
      "5\n",
      "8\n"
     ]
    },
    {
     "data": {
      "text/plain": [
       "13"
      ]
     },
     "execution_count": 96,
     "metadata": {},
     "output_type": "execute_result"
    }
   ],
   "source": [
    "solution(n, lost, reserve)"
   ]
  },
  {
   "cell_type": "code",
   "execution_count": 91,
   "metadata": {},
   "outputs": [
    {
     "data": {
      "text/plain": [
       "[1, 7, 9]"
      ]
     },
     "execution_count": 91,
     "metadata": {},
     "output_type": "execute_result"
    }
   ],
   "source": [
    "lost"
   ]
  },
  {
   "cell_type": "code",
   "execution_count": 92,
   "metadata": {},
   "outputs": [
    {
     "data": {
      "text/plain": [
       "[4, 8]"
      ]
     },
     "execution_count": 92,
     "metadata": {},
     "output_type": "execute_result"
    }
   ],
   "source": [
    "reserve"
   ]
  },
  {
   "cell_type": "code",
   "execution_count": 14,
   "metadata": {},
   "outputs": [
    {
     "data": {
      "text/plain": [
       "[3, 5]"
      ]
     },
     "execution_count": 14,
     "metadata": {},
     "output_type": "execute_result"
    }
   ],
   "source": [
    "for l in lost:\n",
    "    try:\n",
    "        reserve.remove(l)\n",
    "    except:\n",
    "        pass\n",
    "[i+1 for i in reserve]"
   ]
  },
  {
   "cell_type": "code",
   "execution_count": 33,
   "metadata": {},
   "outputs": [
    {
     "data": {
      "text/plain": [
       "5"
      ]
     },
     "execution_count": 33,
     "metadata": {},
     "output_type": "execute_result"
    }
   ],
   "source": [
    "for l in lost:\n",
    "    if l in reserve:\n",
    "        reserve.remove(l)\n",
    "        lost.remove(l)\n",
    "for l in lost:\n",
    "    if l-1 in reserve:\n",
    "        reserve.remove(l-1)\n",
    "        lost.remove(l)\n",
    "    elif l+1 in reserve:\n",
    "        reserve.remove(l+1)\n",
    "        lost.remove(l)\n",
    "n-len(lost)"
   ]
  },
  {
   "cell_type": "code",
   "execution_count": 40,
   "metadata": {},
   "outputs": [
    {
     "data": {
      "text/plain": [
       "5"
      ]
     },
     "execution_count": 40,
     "metadata": {},
     "output_type": "execute_result"
    }
   ],
   "source": [
    "for r in reserve:\n",
    "    if r in lost:\n",
    "        reserve.remove(r)\n",
    "        lost.remove(r)\n",
    "for r in reserve:\n",
    "    if r-1 in lost:\n",
    "        reserve.remove(r)\n",
    "        lost.remove(r-1)\n",
    "    elif r+1 in lost:\n",
    "        reserve.remove(r)\n",
    "        lost.remove(r+1)\n",
    "n-len(lost)"
   ]
  },
  {
   "cell_type": "code",
   "execution_count": 34,
   "metadata": {},
   "outputs": [
    {
     "data": {
      "text/plain": [
       "[4]"
      ]
     },
     "execution_count": 34,
     "metadata": {},
     "output_type": "execute_result"
    }
   ],
   "source": [
    "reserve"
   ]
  },
  {
   "cell_type": "code",
   "execution_count": 39,
   "metadata": {},
   "outputs": [
    {
     "data": {
      "text/plain": [
       "{1, 2, 3, 4}"
      ]
     },
     "execution_count": 39,
     "metadata": {},
     "output_type": "execute_result"
    }
   ],
   "source": [
    "set([1,1,2,3,4])"
   ]
  },
  {
   "cell_type": "code",
   "execution_count": 110,
   "metadata": {},
   "outputs": [],
   "source": [
    "n=15\n",
    "lost = [1,2,6,7,9]\n",
    "reserve = [3,4,5,8]\n",
    "# return 13"
   ]
  },
  {
   "cell_type": "code",
   "execution_count": null,
   "metadata": {},
   "outputs": [],
   "source": [
    "def solution(n, lost, reserve):\n",
    "    reserve_nonoverlap = [r for r in reserve if r not in lost]\n",
    "    lost_nonoverlap = [l for l in lost if l not in reserve]\n",
    "    print(reserve_nonoverlap)\n",
    "    print(lost_nonoverlap)\n",
    "    for r in reserve_nonoverlap:\n",
    "        print(r)\n",
    "        if r-1 in lost_nonoverlap:\n",
    "            #reserve.remove(r) 이렇게 돌고있는거 직접 지우면 안된다\n",
    "            lost_nonoverlap.remove(r-1)\n",
    "        elif r+1 in lost_nonoverlap:\n",
    "            #reserve.remove(r)\n",
    "            lost_nonoverlap.remove(r+1)\n",
    "    \n",
    "    return n-len(lost)"
   ]
  },
  {
   "cell_type": "code",
   "execution_count": 114,
   "metadata": {},
   "outputs": [
    {
     "data": {
      "text/plain": [
       "4"
      ]
     },
     "execution_count": 114,
     "metadata": {},
     "output_type": "execute_result"
    }
   ],
   "source": [
    "reserve_nonoverlap = [r for r in reserve if r not in lost]\n",
    "lost_nonoverlap = [l for l in lost if l not in reserve]\n",
    "for r in reserve_nonoverlap:\n",
    "    if r-1 in lost_nonoverlap:\n",
    "        #reserve.remove(r) 이렇게 돌고있는거 직접 지우면 안된다\n",
    "        lost_nonoverlap.remove(r-1)\n",
    "    elif r+1 in lost_nonoverlap:\n",
    "        #reserve.remove(r)\n",
    "        lost_nonoverlap.remove(r+1)\n",
    "\n",
    "n-len(lost_nonoverlap)"
   ]
  },
  {
   "cell_type": "code",
   "execution_count": 116,
   "metadata": {},
   "outputs": [
    {
     "data": {
      "text/plain": [
       "[3]"
      ]
     },
     "execution_count": 116,
     "metadata": {},
     "output_type": "execute_result"
    }
   ],
   "source": [
    "reserve"
   ]
  },
  {
   "cell_type": "code",
   "execution_count": 105,
   "metadata": {},
   "outputs": [
    {
     "data": {
      "text/plain": [
       "[]"
      ]
     },
     "execution_count": 105,
     "metadata": {},
     "output_type": "execute_result"
    }
   ],
   "source": [
    "lost_nonoverlap"
   ]
  },
  {
   "cell_type": "markdown",
   "metadata": {},
   "source": [
    "## 최종 답"
   ]
  },
  {
   "cell_type": "code",
   "execution_count": null,
   "metadata": {},
   "outputs": [],
   "source": [
    "def solution(n, lost, reserve):\n",
    "    # 여벌체육복 가져온사람이 도난당한 경우는 reserve도 지워야 하기 때문에\n",
    "    # 아예 리스트 컴프리헨션으로 새로 만든다\n",
    "    reserve_nonoverlap = [r for r in reserve if r not in lost]\n",
    "    lost_nonoverlap = [l for l in lost if l not in reserve]\n",
    "    for r in reserve_nonoverlap:\n",
    "        print(r)\n",
    "        if r-1 in lost_nonoverlap:\n",
    "            #reserve.remove(r) 이렇게 돌고있는거 직접 지우면 안된다\n",
    "            lost_nonoverlap.remove(r-1)\n",
    "        elif r+1 in lost_nonoverlap:\n",
    "            #reserve.remove(r)\n",
    "            lost_nonoverlap.remove(r+1)\n",
    "    \n",
    "    return n-len(lost_nonoverlap)"
   ]
  },
  {
   "cell_type": "code",
   "execution_count": null,
   "metadata": {},
   "outputs": [],
   "source": [
    "def solution(n, lost, reserve):\n",
    "    set_reserve = set(reserve) - set(lost)\n",
    "    set_lost = set(lost) - set(reserve)\n",
    "    for i in set_reserve:\n",
    "        if i-1 in set_lost:\n",
    "            set_lost.remove(i-1)\n",
    "        elif i+1 in set_lost:\n",
    "            set_lost.remove(i+1)\n",
    "    answer = n - len(set_lost)\n",
    "    return answer"
   ]
  },
  {
   "cell_type": "code",
   "execution_count": null,
   "metadata": {},
   "outputs": [],
   "source": []
  }
 ],
 "metadata": {
  "kernelspec": {
   "display_name": "Python 3",
   "language": "python",
   "name": "python3"
  },
  "language_info": {
   "codemirror_mode": {
    "name": "ipython",
    "version": 3
   },
   "file_extension": ".py",
   "mimetype": "text/x-python",
   "name": "python",
   "nbconvert_exporter": "python",
   "pygments_lexer": "ipython3",
   "version": "3.7.3"
  }
 },
 "nbformat": 4,
 "nbformat_minor": 2
}
