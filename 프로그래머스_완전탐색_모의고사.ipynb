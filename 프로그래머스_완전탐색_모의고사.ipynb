{
 "cells": [
  {
   "cell_type": "markdown",
   "metadata": {},
   "source": [
    "# 프로그래머스_완전탐색_모의고사"
   ]
  },
  {
   "cell_type": "code",
   "execution_count": 10,
   "metadata": {},
   "outputs": [],
   "source": [
    "import math"
   ]
  },
  {
   "cell_type": "code",
   "execution_count": null,
   "metadata": {},
   "outputs": [],
   "source": [
    "def solution(answer):\n",
    "    "
   ]
  },
  {
   "cell_type": "code",
   "execution_count": 36,
   "metadata": {},
   "outputs": [],
   "source": [
    "person1 = [1,2,3,4,5]\n",
    "person2 = [2,1,2,3,2,4,2,5]\n",
    "person3 = [3,3,1,1,2,2,4,4,5,5]"
   ]
  },
  {
   "cell_type": "code",
   "execution_count": 7,
   "metadata": {},
   "outputs": [],
   "source": [
    "answer = [1,2,3,4,5]"
   ]
  },
  {
   "cell_type": "code",
   "execution_count": 23,
   "metadata": {},
   "outputs": [],
   "source": [
    "answer = [1,2,3,4,5,6,7,1,2,3,4,5,6,7]"
   ]
  },
  {
   "cell_type": "code",
   "execution_count": 38,
   "metadata": {},
   "outputs": [],
   "source": [
    "person1_answer = math.ceil(len(answer) / len(person1)) * person1\n",
    "person2_answer = math.ceil(len(answer) / len(person2)) * person2\n",
    "person3_answer = math.ceil(len(answer) / len(person2)) * person3"
   ]
  },
  {
   "cell_type": "code",
   "execution_count": 85,
   "metadata": {},
   "outputs": [
    {
     "data": {
      "text/plain": [
       "[1]"
      ]
     },
     "execution_count": 85,
     "metadata": {},
     "output_type": "execute_result"
    }
   ],
   "source": [
    "person1 = [1,2,3,4,5]\n",
    "person2 = [2,1,2,3,2,4,2,5]\n",
    "person3 = [3,3,1,1,2,2,4,4,5,5]\n",
    "answer = [1,2,3,4,5]\n",
    "\n",
    "person1_answer = math.ceil(len(answer) / len(person1)) * person1\n",
    "person2_answer = math.ceil(len(answer) / len(person2)) * person2\n",
    "person3_answer = math.ceil(len(answer) / len(person2)) * person3\n",
    "\n",
    "over_len1 = len(person1_answer) - len(answer)\n",
    "over_len2 = len(person2_answer) - len(answer)\n",
    "over_len3 = len(person3_answer) - len(answer)\n",
    "\n",
    "del person1_answer[len(person1_answer) - over_len1:]\n",
    "del person2_answer[len(person2_answer) - over_len2:]\n",
    "del person3_answer[len(person3_answer) - over_len3:]\n",
    "\n",
    "person1_result = (np.array(person1_answer) == np.array(answer)).sum()\n",
    "person2_result = (np.array(person2_answer) == np.array(answer)).sum()\n",
    "person3_result = (np.array(person3_answer) == np.array(answer)).sum()\n",
    "result_list = [person1_result, person2_result, person3_result]\n",
    "\n",
    "np.argmax(result_list) + 1\n",
    "result_answer = []\n",
    "for i in range(len(result_list)):\n",
    "    if result_list[i] == max(result_list):\n",
    "        result_answer.append(i+1)\n",
    "result_answer"
   ]
  },
  {
   "cell_type": "code",
   "execution_count": 86,
   "metadata": {},
   "outputs": [],
   "source": [
    "def solution(answer):\n",
    "    person1 = [1,2,3,4,5]\n",
    "    person2 = [2,1,2,3,2,4,2,5]\n",
    "    person3 = [3,3,1,1,2,2,4,4,5,5]\n",
    "\n",
    "    person1_answer = math.ceil(len(answer) / len(person1)) * person1\n",
    "    person2_answer = math.ceil(len(answer) / len(person2)) * person2\n",
    "    person3_answer = math.ceil(len(answer) / len(person2)) * person3\n",
    "\n",
    "    over_len1 = len(person1_answer) - len(answer)\n",
    "    over_len2 = len(person2_answer) - len(answer)\n",
    "    over_len3 = len(person3_answer) - len(answer)\n",
    "\n",
    "    del person1_answer[len(person1_answer) - over_len1:]\n",
    "    del person2_answer[len(person2_answer) - over_len2:]\n",
    "    del person3_answer[len(person3_answer) - over_len3:]\n",
    "\n",
    "    person1_result = (np.array(person1_answer) == np.array(answer)).sum()\n",
    "    person2_result = (np.array(person2_answer) == np.array(answer)).sum()\n",
    "    person3_result = (np.array(person3_answer) == np.array(answer)).sum()\n",
    "    result_list = [person1_result, person2_result, person3_result]\n",
    "\n",
    "    np.argmax(result_list) + 1\n",
    "    result_answer = []\n",
    "    for i in range(len(result_list)):\n",
    "        if result_list[i] == max(result_list):\n",
    "            result_answer.append(i+1)\n",
    "    return result_answer"
   ]
  },
  {
   "cell_type": "code",
   "execution_count": null,
   "metadata": {},
   "outputs": [],
   "source": [
    "def solution(answer):\n",
    "    trash_1 = [1,2,3,4,5]\n",
    "    trash_2 = [2,1,2,3,2,4,2,5]\n",
    "    trash_3 = [3,3,1,1,2,2,4,4,5,5]\n",
    "    \n",
    "    accuracy_list1 = []\n",
    "    accuracy_list2 = []\n",
    "    accuracy_list3 = []\n",
    "    for i in range(len(answer)):\n",
    "        accuracy_list1.append(answer[i] - trash_1[i%(len(trash_1))])\n",
    "        accuracy_list2.append(answer[i] - trash_2[i%(len(trash_2))])\n",
    "        accuracy_list3.append(answer[i] - trash_3[i%(len(trash_3))])\n",
    "\n",
    "    accuracy_1 = accuracy_list1.count(0)\n",
    "    accuracy_2 = accuracy_list2.count(0)\n",
    "    accuracy_3 = accuracy_list3.count(0)\n",
    "    \n",
    "    temp_array = [accuracy_1, accuracy_2, accuracy_3]\n",
    "    problem_answer = []\n",
    "    for i in range(len(temp_array)):\n",
    "        if max(temp_array) == temp_array[i]:\n",
    "            problem_answer.append(i+1)\n",
    "    \n",
    "    return problem_answer"
   ]
  },
  {
   "cell_type": "code",
   "execution_count": 87,
   "metadata": {},
   "outputs": [],
   "source": [
    "trash_1 = [1,2,3,4,5]\n",
    "trash_2 = [2,1,2,3,2,4,2,5]\n",
    "trash_3 = [3,3,1,1,2,2,4,4,5,5]\n",
    "\n",
    "accuracy_list1 = []\n",
    "accuracy_list2 = []\n",
    "accuracy_list3 = []\n",
    "for i in range(len(answer)):\n",
    "    accuracy_list1.append(answer[i] - trash_1[i%(len(trash_1))])\n",
    "    accuracy_list2.append(answer[i] - trash_2[i%(len(trash_2))])\n",
    "    accuracy_list3.append(answer[i] - trash_3[i%(len(trash_3))])\n",
    "\n",
    "accuracy_1 = accuracy_list1.count(0)\n",
    "accuracy_2 = accuracy_list2.count(0)\n",
    "accuracy_3 = accuracy_list3.count(0)\n",
    "\n",
    "temp_array = [accuracy_1, accuracy_2, accuracy_3]\n",
    "problem_answer = []\n",
    "for i in range(len(temp_array)):\n",
    "    if max(temp_array) == temp_array[i]:\n",
    "        problem_answer.append(i+1)"
   ]
  },
  {
   "cell_type": "code",
   "execution_count": 89,
   "metadata": {},
   "outputs": [
    {
     "data": {
      "text/plain": [
       "2"
      ]
     },
     "execution_count": 89,
     "metadata": {},
     "output_type": "execute_result"
    }
   ],
   "source": [
    "i%(len(trash_1))"
   ]
  },
  {
   "cell_type": "code",
   "execution_count": 84,
   "metadata": {},
   "outputs": [
    {
     "data": {
      "text/plain": [
       "[5, 0, 0]"
      ]
     },
     "execution_count": 84,
     "metadata": {},
     "output_type": "execute_result"
    }
   ],
   "source": [
    "result_list"
   ]
  },
  {
   "cell_type": "code",
   "execution_count": 76,
   "metadata": {},
   "outputs": [],
   "source": [
    "person2_result = 5"
   ]
  },
  {
   "cell_type": "code",
   "execution_count": 81,
   "metadata": {},
   "outputs": [
    {
     "data": {
      "text/plain": [
       "0"
      ]
     },
     "execution_count": 81,
     "metadata": {},
     "output_type": "execute_result"
    }
   ],
   "source": [
    "np.argmax([person1_result, person2_result, person3_result])"
   ]
  },
  {
   "cell_type": "code",
   "execution_count": 54,
   "metadata": {},
   "outputs": [
    {
     "data": {
      "text/plain": [
       "[]"
      ]
     },
     "execution_count": 54,
     "metadata": {},
     "output_type": "execute_result"
    }
   ],
   "source": [
    "person1_answer[len(person1_answer) - over_len1:]"
   ]
  },
  {
   "cell_type": "code",
   "execution_count": 60,
   "metadata": {},
   "outputs": [],
   "source": [
    "import numpy as np"
   ]
  },
  {
   "cell_type": "code",
   "execution_count": 62,
   "metadata": {},
   "outputs": [
    {
     "data": {
      "text/plain": [
       "array([ True,  True,  True,  True,  True])"
      ]
     },
     "execution_count": 62,
     "metadata": {},
     "output_type": "execute_result"
    }
   ],
   "source": [
    "np.array(person1_answer) == np.array(answer)"
   ]
  },
  {
   "cell_type": "code",
   "execution_count": 58,
   "metadata": {},
   "outputs": [
    {
     "data": {
      "text/plain": [
       "[3, 3, 1, 1, 2]"
      ]
     },
     "execution_count": 58,
     "metadata": {},
     "output_type": "execute_result"
    }
   ],
   "source": [
    "person3_answer"
   ]
  },
  {
   "cell_type": "code",
   "execution_count": 33,
   "metadata": {},
   "outputs": [],
   "source": [
    "del person1_answer[5:10]"
   ]
  },
  {
   "cell_type": "code",
   "execution_count": 34,
   "metadata": {},
   "outputs": [
    {
     "data": {
      "text/plain": [
       "[1, 2, 3, 4, 5, 1, 2, 3, 4, 5]"
      ]
     },
     "execution_count": 34,
     "metadata": {},
     "output_type": "execute_result"
    }
   ],
   "source": [
    "person1_answer"
   ]
  },
  {
   "cell_type": "code",
   "execution_count": 21,
   "metadata": {},
   "outputs": [
    {
     "data": {
      "text/plain": [
       "1"
      ]
     },
     "execution_count": 21,
     "metadata": {},
     "output_type": "execute_result"
    }
   ],
   "source": [
    "math.ceil(len(answer) / len(person1))"
   ]
  },
  {
   "cell_type": "code",
   "execution_count": 11,
   "metadata": {},
   "outputs": [],
   "source": [
    "def solution(answer):\n",
    "    person1 = [1,2,3,4,5]\n",
    "    person2 = [2,1,2,3,2,4,2,5]\n",
    "    person3 = [3,3,1,1,2,2,4,4,5,5]\n",
    "    \n",
    "    person1_score = 0\n",
    "    person2_score = 0\n",
    "    person3_score = 0\n",
    "    \n",
    "    for i in range(len(answer)):\n",
    "        if answer[i] == person1[i % len(person1)]:\n",
    "            person1_score += 1\n",
    "        if answer[i] == person2[i % len(person2)]:\n",
    "            person2_score += 1\n",
    "        if answer[i] == person3[i % len(person3)]:\n",
    "            person3_score += 1\n",
    "    \n",
    "    result_list = [person1_score, person2_score, person3_score]\n",
    "    result_answer = []\n",
    "    for i in range(len(result_list)):\n",
    "        if result_list[i] == max(result_list):\n",
    "            result_answer.append(i+1)\n",
    "    \n",
    "    print(person1_score)\n",
    "    print(person2_score)\n",
    "    print(person3_score)\n",
    "    return result_answer"
   ]
  },
  {
   "cell_type": "code",
   "execution_count": 5,
   "metadata": {},
   "outputs": [
    {
     "data": {
      "text/plain": [
       "44"
      ]
     },
     "execution_count": 5,
     "metadata": {},
     "output_type": "execute_result"
    }
   ],
   "source": [
    "max([1,2,3,44])"
   ]
  },
  {
   "cell_type": "code",
   "execution_count": 12,
   "metadata": {},
   "outputs": [
    {
     "name": "stdout",
     "output_type": "stream",
     "text": [
      "5\n",
      "0\n",
      "0\n"
     ]
    },
    {
     "data": {
      "text/plain": [
       "[1]"
      ]
     },
     "execution_count": 12,
     "metadata": {},
     "output_type": "execute_result"
    }
   ],
   "source": [
    "solution(answer)"
   ]
  },
  {
   "cell_type": "code",
   "execution_count": null,
   "metadata": {},
   "outputs": [],
   "source": []
  },
  {
   "cell_type": "code",
   "execution_count": null,
   "metadata": {},
   "outputs": [],
   "source": []
  },
  {
   "cell_type": "code",
   "execution_count": null,
   "metadata": {},
   "outputs": [],
   "source": []
  },
  {
   "cell_type": "code",
   "execution_count": null,
   "metadata": {},
   "outputs": [],
   "source": []
  },
  {
   "cell_type": "code",
   "execution_count": null,
   "metadata": {},
   "outputs": [],
   "source": []
  },
  {
   "cell_type": "code",
   "execution_count": null,
   "metadata": {},
   "outputs": [],
   "source": []
  },
  {
   "cell_type": "code",
   "execution_count": null,
   "metadata": {},
   "outputs": [],
   "source": []
  },
  {
   "cell_type": "code",
   "execution_count": null,
   "metadata": {},
   "outputs": [],
   "source": []
  }
 ],
 "metadata": {
  "kernelspec": {
   "display_name": "Python 3",
   "language": "python",
   "name": "python3"
  },
  "language_info": {
   "codemirror_mode": {
    "name": "ipython",
    "version": 3
   },
   "file_extension": ".py",
   "mimetype": "text/x-python",
   "name": "python",
   "nbconvert_exporter": "python",
   "pygments_lexer": "ipython3",
   "version": "3.7.3"
  }
 },
 "nbformat": 4,
 "nbformat_minor": 2
}
