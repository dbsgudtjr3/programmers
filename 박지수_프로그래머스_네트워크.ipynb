{
 "cells": [
  {
   "cell_type": "code",
   "execution_count": null,
   "metadata": {},
   "outputs": [],
   "source": [
    "def solution(n, computers):\n",
    "    visit = [0]*n\n",
    "    path_idx = [idx for idx, val in enumerate(visit) if val == 0]\n",
    "    cnt = 0\n",
    "\n",
    "    i= 0 \n",
    "    while 0 in visit:\n",
    "        if visit[i] == 0:\n",
    "            stack = [i]\n",
    "            while stack:\n",
    "                com_idx = stack.pop()\n",
    "                if visit[com_idx] == 0:\n",
    "                    visit[com_idx] = 1\n",
    "                for j in range(n):\n",
    "                    if computers[com_idx][j] == 1 and visit[j] == 0:\n",
    "                        stack.append(j)\n",
    "            cnt += 1\n",
    "\n",
    "        i += 1\n",
    "    answer = cnt\n",
    "    return answer"
   ]
  }
 ],
 "metadata": {
  "kernelspec": {
   "display_name": "Python 3",
   "language": "python",
   "name": "python3"
  },
  "language_info": {
   "codemirror_mode": {
    "name": "ipython",
    "version": 3
   },
   "file_extension": ".py",
   "mimetype": "text/x-python",
   "name": "python",
   "nbconvert_exporter": "python",
   "pygments_lexer": "ipython3",
   "version": "3.7.3"
  }
 },
 "nbformat": 4,
 "nbformat_minor": 2
}
