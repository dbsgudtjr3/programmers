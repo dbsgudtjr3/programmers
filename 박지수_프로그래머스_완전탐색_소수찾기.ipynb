{
 "cells": [
  {
   "cell_type": "markdown",
   "metadata": {},
   "source": [
    "# 박지수_프로그래머스_완전탐색_소수찾기"
   ]
  },
  {
   "cell_type": "code",
   "execution_count": null,
   "metadata": {},
   "outputs": [],
   "source": [
    "from itertools import permutations\n",
    "def isP(x):\n",
    "    if x>1:\n",
    "        for i in range(2,x):\n",
    "            if x%i ==0:\n",
    "                return False\n",
    "    else:\n",
    "        return False\n",
    "    return True\n",
    "\n",
    "def solution(numbers):\n",
    "\n",
    "    #조합 리스트 만들어서\n",
    "    numbers = list(numbers)\n",
    "    result = []\n",
    "    for i in range(1, len(numbers)+1):\n",
    "        result += list(set(permutations(numbers,i)))\n",
    "    print(result)\n",
    "    numbers = list(set(list(map(int,[\"\".join(result[i]) for i in range(0,len(result))]))))\n",
    "    print(\"aaa\", numbers)\n",
    "    #for 조합\n",
    "    cnt = 0\n",
    "    \n",
    "    for num in numbers:\n",
    "        #num은 소수가 맞는가?\n",
    "        if  isP(int(num))==True:\n",
    "            cnt +=1\n",
    "        \n",
    "    \n",
    "    answer = cnt\n",
    "    return answer"
   ]
  }
 ],
 "metadata": {
  "kernelspec": {
   "display_name": "Python 3",
   "language": "python",
   "name": "python3"
  },
  "language_info": {
   "codemirror_mode": {
    "name": "ipython",
    "version": 3
   },
   "file_extension": ".py",
   "mimetype": "text/x-python",
   "name": "python",
   "nbconvert_exporter": "python",
   "pygments_lexer": "ipython3",
   "version": "3.7.3"
  }
 },
 "nbformat": 4,
 "nbformat_minor": 2
}
