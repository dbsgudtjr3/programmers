{
 "cells": [
  {
   "cell_type": "code",
   "execution_count": null,
   "metadata": {},
   "outputs": [],
   "source": [
    "def solution(tickets):\n",
    "    #동일한 티켓으로 인한 문제점. index도 같이 뽑아야 한다,,!!!!!\n",
    "    #tickets = [[\"ICN\", \"A\"], [\"ICN\", \"A\"], [\"A\", \"ICN\"]]\n",
    "    #print(sorted([[i, j]for i, j in tickets if i=='ICN'], key = lambda x: x[1])\n",
    "    answer = []\n",
    "    visit = [0] * len(tickets)\n",
    "    stack = []\n",
    "    for idx ,val in sorted([[idx, val]for idx, val in enumerate(tickets) if val[0]=='ICN'], key = lambda x: x[1][1]):\n",
    "        #print(idx, val)\n",
    "        tmp_visit = visit.copy()\n",
    "        tmp_visit[idx] = 1\n",
    "        stack.append([val,val,tmp_visit])\n",
    "\n",
    "    while stack:\n",
    "        path, sol_path, tmp_visit = stack.pop(0)\n",
    "        st, et = path\n",
    "        #print(st, et, sol_path, tmp_visit, len(stack))\n",
    "        for i, val in sorted([[idx, val]for idx, val in enumerate(tickets) if val[0]==et], key = lambda x: x[1][1]):\n",
    "            #i = tickets.index(val)\n",
    "            if tmp_visit[i] != 0:\n",
    "                continue\n",
    "            elif tmp_visit[i] == 0 and et == tickets[i][0]:#et == tickets가 여러개 있으면, 알파벳이  짧은거부터\n",
    "                #stack에 푸쉬\n",
    "                tmp2_visit = tmp_visit.copy()\n",
    "                tmp2_visit[i] = 1\n",
    "                stack.append([tickets[i], sol_path+[tickets[i][1]], tmp2_visit])\n",
    "        if sum(tmp_visit) == len(tmp_visit):\n",
    "            answer = sol_path\n",
    "            break;\n",
    "    print(answer)\n",
    "    return answer"
   ]
  }
 ],
 "metadata": {
  "kernelspec": {
   "display_name": "Python 3",
   "language": "python",
   "name": "python3"
  },
  "language_info": {
   "codemirror_mode": {
    "name": "ipython",
    "version": 3
   },
   "file_extension": ".py",
   "mimetype": "text/x-python",
   "name": "python",
   "nbconvert_exporter": "python",
   "pygments_lexer": "ipython3",
   "version": "3.7.3"
  }
 },
 "nbformat": 4,
 "nbformat_minor": 2
}
