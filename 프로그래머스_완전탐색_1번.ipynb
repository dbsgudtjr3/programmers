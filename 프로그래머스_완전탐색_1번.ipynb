{
 "cells": [
  {
   "cell_type": "markdown",
   "metadata": {},
   "source": [
    "# 프로그래머스 완전탐색 첫번째\n",
    "## 모의고사"
   ]
  },
  {
   "cell_type": "code",
   "execution_count": 2,
   "metadata": {},
   "outputs": [],
   "source": [
    "trash_1 = [1,2,3,4,5]\n",
    "trash_2 = [2,1,2,3,2,4,2,5]\n",
    "trash_3 = [3,3,1,1,2,2,4,4,5,5]"
   ]
  },
  {
   "cell_type": "code",
   "execution_count": 1,
   "metadata": {},
   "outputs": [],
   "source": [
    "answer = [1,2,3,4,5,1,2,3,4,5,1,2,3,4,5,1,2,3,4,5,1,2,3]"
   ]
  },
  {
   "cell_type": "code",
   "execution_count": null,
   "metadata": {},
   "outputs": [],
   "source": [
    "answer - trash_1"
   ]
  },
  {
   "cell_type": "code",
   "execution_count": 4,
   "metadata": {},
   "outputs": [],
   "source": [
    "accuracy_list1 = []\n",
    "accuracy_list2 = []\n",
    "accuracy_list3 = []\n",
    "for i in range(len(answer)):\n",
    "    accuracy_list1.append(answer[i] - trash_1[i%(len(trash_1))])\n",
    "    accuracy_list2.append(answer[i] - trash_2[i%(len(trash_2))])\n",
    "    accuracy_list3.append(answer[i] - trash_3[i%(len(trash_3))])"
   ]
  },
  {
   "cell_type": "code",
   "execution_count": 41,
   "metadata": {},
   "outputs": [],
   "source": [
    "accuracy_1 = accuracy_list1.count(0)\n",
    "accuracy_2 = accuracy_list2.count(0)\n",
    "accuracy_3 = accuracy_list3.count(0)"
   ]
  },
  {
   "cell_type": "code",
   "execution_count": 40,
   "metadata": {},
   "outputs": [
    {
     "data": {
      "text/plain": [
       "0"
      ]
     },
     "execution_count": 40,
     "metadata": {},
     "output_type": "execute_result"
    }
   ],
   "source": [
    "import numpy as np\n",
    "np.argmax([accuracy_1, accuracy_2, accuracy_3])"
   ]
  },
  {
   "cell_type": "code",
   "execution_count": 58,
   "metadata": {},
   "outputs": [],
   "source": [
    "temp_array = [accuracy_1, accuracy_2, accuracy_3]"
   ]
  },
  {
   "cell_type": "code",
   "execution_count": 60,
   "metadata": {},
   "outputs": [],
   "source": [
    "problem_answer = []\n",
    "for i in range(len(temp_array)):\n",
    "    if max(temp_array) == temp_array[i]:\n",
    "        problem_answer.append(i+1)"
   ]
  },
  {
   "cell_type": "code",
   "execution_count": 61,
   "metadata": {},
   "outputs": [
    {
     "data": {
      "text/plain": [
       "[1]"
      ]
     },
     "execution_count": 61,
     "metadata": {},
     "output_type": "execute_result"
    }
   ],
   "source": [
    "problem_answer"
   ]
  },
  {
   "cell_type": "code",
   "execution_count": 42,
   "metadata": {},
   "outputs": [],
   "source": [
    "from collections import Counter"
   ]
  },
  {
   "cell_type": "code",
   "execution_count": 49,
   "metadata": {},
   "outputs": [],
   "source": [
    "dict_count = Counter([accuracy_1, accuracy_2, accuracy_3])"
   ]
  },
  {
   "cell_type": "code",
   "execution_count": 57,
   "metadata": {},
   "outputs": [
    {
     "data": {
      "text/plain": [
       "Counter({23: 1, 3: 1, 2: 1})"
      ]
     },
     "execution_count": 57,
     "metadata": {},
     "output_type": "execute_result"
    }
   ],
   "source": [
    "dict_count"
   ]
  },
  {
   "cell_type": "code",
   "execution_count": null,
   "metadata": {},
   "outputs": [],
   "source": [
    "for i in dict_count.keys():\n",
    "    if max(dict_count.keys()) == dict_count[i]:\n",
    "        answer.append"
   ]
  },
  {
   "cell_type": "code",
   "execution_count": null,
   "metadata": {},
   "outputs": [],
   "source": [
    "accyra[accuracy_1, accuracy_2, accuracy_3]"
   ]
  },
  {
   "cell_type": "code",
   "execution_count": 56,
   "metadata": {},
   "outputs": [
    {
     "data": {
      "text/plain": [
       "2"
      ]
     },
     "execution_count": 56,
     "metadata": {},
     "output_type": "execute_result"
    }
   ],
   "source": [
    "accuracy_3"
   ]
  },
  {
   "cell_type": "code",
   "execution_count": 51,
   "metadata": {},
   "outputs": [
    {
     "data": {
      "text/plain": [
       "1"
      ]
     },
     "execution_count": 51,
     "metadata": {},
     "output_type": "execute_result"
    }
   ],
   "source": [
    "if dict_count[max(dict_count)] > 1:\n",
    "    "
   ]
  },
  {
   "cell_type": "code",
   "execution_count": 62,
   "metadata": {},
   "outputs": [],
   "source": [
    "# 내 솔루션\n",
    "def solution(answer):\n",
    "    trash_1 = [1,2,3,4,5]\n",
    "    trash_2 = [2,1,2,3,2,4,2,5]\n",
    "    trash_3 = [3,3,1,1,2,2,4,4,5,5]\n",
    "    \n",
    "    accuracy_list1 = []\n",
    "    accuracy_list2 = []\n",
    "    accuracy_list3 = []\n",
    "    for i in range(len(answer)):\n",
    "        accuracy_list1.append(answer[i] - trash_1[i%(len(trash_1))])\n",
    "        accuracy_list2.append(answer[i] - trash_2[i%(len(trash_2))])\n",
    "        accuracy_list3.append(answer[i] - trash_3[i%(len(trash_3))])\n",
    "\n",
    "    accuracy_1 = accuracy_list1.count(0)\n",
    "    accuracy_2 = accuracy_list2.count(0)\n",
    "    accuracy_3 = accuracy_list3.count(0)\n",
    "    \n",
    "    temp_array = [accuracy_1, accuracy_2, accuracy_3]\n",
    "    problem_answer = []\n",
    "    for i in range(len(temp_array)):\n",
    "        if max(temp_array) == temp_array[i]:\n",
    "            problem_answer.append(i+1)\n",
    "    \n",
    "    return problem_answer"
   ]
  },
  {
   "cell_type": "code",
   "execution_count": null,
   "metadata": {},
   "outputs": [],
   "source": []
  },
  {
   "cell_type": "code",
   "execution_count": null,
   "metadata": {},
   "outputs": [],
   "source": [
    "# 다른사람 풀이\n",
    "def solution(answers):\n",
    "    pattern1 = [1,2,3,4,5]\n",
    "    pattern2 = [2,1,2,3,2,4,2,5]\n",
    "    pattern3 = [3,3,1,1,2,2,4,4,5,5]\n",
    "    score = [0, 0, 0]\n",
    "    result = []\n",
    "\n",
    "    for idx, answer in enumerate(answers):\n",
    "        if answer == pattern1[idx%len(pattern1)]:\n",
    "            score[0] += 1\n",
    "        if answer == pattern2[idx%len(pattern2)]:\n",
    "            score[1] += 1\n",
    "        if answer == pattern3[idx%len(pattern3)]:\n",
    "            score[2] += 1\n",
    "\n",
    "    for idx, s in enumerate(score):\n",
    "        if s == max(score):\n",
    "            result.append(idx+1)\n",
    "\n",
    "    return result"
   ]
  },
  {
   "cell_type": "code",
   "execution_count": null,
   "metadata": {},
   "outputs": [],
   "source": []
  },
  {
   "cell_type": "code",
   "execution_count": null,
   "metadata": {},
   "outputs": [],
   "source": []
  }
 ],
 "metadata": {
  "kernelspec": {
   "display_name": "Python 3",
   "language": "python",
   "name": "python3"
  },
  "language_info": {
   "codemirror_mode": {
    "name": "ipython",
    "version": 3
   },
   "file_extension": ".py",
   "mimetype": "text/x-python",
   "name": "python",
   "nbconvert_exporter": "python",
   "pygments_lexer": "ipython3",
   "version": "3.7.3"
  }
 },
 "nbformat": 4,
 "nbformat_minor": 2
}
